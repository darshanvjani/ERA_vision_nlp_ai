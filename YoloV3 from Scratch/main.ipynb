{
 "cells": [
  {
   "cell_type": "code",
   "execution_count": null,
   "metadata": {},
   "outputs": [],
   "source": [
    "!pip install torchsummary\n",
    "!pip install torchmetrics\n",
    "!pip install torch_lr_finder\n",
    "!pip install pytorch_lightning"
   ]
  },
  {
   "cell_type": "code",
   "execution_count": null,
   "metadata": {},
   "outputs": [],
   "source": [
    "%cd /kaggle/working/S13"
   ]
  },
  {
   "cell_type": "code",
   "execution_count": null,
   "metadata": {},
   "outputs": [],
   "source": [
    "%load_ext autoreload\n",
    "%autoreload 2"
   ]
  },
  {
   "cell_type": "code",
   "execution_count": null,
   "metadata": {},
   "outputs": [],
   "source": [
    "import pytorch_lightning as pl\n",
    "from pytorch_lightning.callbacks import LearningRateMonitor, ModelCheckpoint\n",
    "from pytorch_lightning.tuner import Tuner\n",
    "from torchsummary import summary\n",
    "from Utilities import config\n",
    "from Utilities.callbacks import (\n",
    "    CheckClassAccuracyCallback,\n",
    "    MAPCallback,\n",
    "    PlotTestExamplesCallback,\n",
    ")\n",
    "from Utilities.model import YOLOv3"
   ]
  },
  {
   "cell_type": "code",
   "execution_count": null,
   "metadata": {},
   "outputs": [],
   "source": [
    "model = YOLOv3(num_classes=config.NUM_CLASSES)\n",
    "summary(model.to(config.DEVICE), input_size=(3, config.IMAGE_SIZE, config.IMAGE_SIZE))"
   ]
  },
  {
   "cell_type": "code",
   "execution_count": null,
   "metadata": {},
   "outputs": [],
   "source": [
    "from Utilities.dataset import YOLODataModule\n",
    "\n",
    "data_module = YOLODataModule(\n",
    "    train_csv_path=config.DATASET + \"/train.csv\",\n",
    "    test_csv_path=config.DATASET + \"/test.csv\"\n",
    ")"
   ]
  },
  {
   "cell_type": "code",
   "execution_count": null,
   "metadata": {},
   "outputs": [],
   "source": [
    "import pytorch_lightning as pl\n",
    "from pytorch_lightning.callbacks import ModelCheckpoint, LearningRateMonitor\n",
    "from Utilities.callbacks import PlotTestExamplesCallback, MAPCallback, CheckClassAccuracyCallback\n",
    "\n",
    "trainer = pl.Trainer(\n",
    "    max_epochs=40,\n",
    "    accelerator=config.DEVICE,\n",
    "    callbacks=[\n",
    "        ModelCheckpoint(\n",
    "            dirpath=config.CHECKPOINT_PATH,\n",
    "            verbose=True\n",
    "        ),\n",
    "        PlotTestExamplesCallback(every_n_epochs=5),\n",
    "        CheckClassAccuracyCallback(train_every_n_epochs=8, test_every_n_epochs=4),\n",
    "        MAPCallback(every_n_epochs=40),\n",
    "        LearningRateMonitor(logging_interval='step', log_momentum=True)\n",
    "    ],\n",
    "    default_root_dir='Store/',\n",
    "    precision='16-mixed'\n",
    ")"
   ]
  },
  {
   "cell_type": "code",
   "execution_count": null,
   "metadata": {},
   "outputs": [],
   "source": [
    "from pytorch_lightning.tuner import Tuner\n",
    "\n",
    "tuner = Tuner(trainer=trainer)\n",
    "\n",
    "# Run LR finder\n",
    "lr_finder = tuner.lr_find(model, datamodule=data_module, min_lr=1e-4, max_lr=1, num_training=trainer.max_epochs)"
   ]
  },
  {
   "cell_type": "code",
   "execution_count": null,
   "metadata": {},
   "outputs": [],
   "source": [
    "# Plot with\n",
    "fig = lr_finder.plot(suggest=True)\n",
    "fig.show()\n",
    "\n",
    "# Pick point based on plot, or get suggestion\n",
    "suggested_lr = lr_finder.suggestion()\n",
    "print(f\"{suggested_lr=}\")"
   ]
  },
  {
   "cell_type": "code",
   "execution_count": null,
   "metadata": {},
   "outputs": [],
   "source": [
    "model.best_lr = 0.003981071705534973"
   ]
  },
  {
   "cell_type": "code",
   "execution_count": null,
   "metadata": {},
   "outputs": [],
   "source": [
    "trainer.fit(model, data_module)"
   ]
  }
 ],
 "metadata": {
  "kernelspec": {
   "display_name": "Python 3",
   "language": "python",
   "name": "python3"
  },
  "language_info": {
   "name": "python",
   "version": "3.10.3"
  },
  "orig_nbformat": 4
 },
 "nbformat": 4,
 "nbformat_minor": 2
}
